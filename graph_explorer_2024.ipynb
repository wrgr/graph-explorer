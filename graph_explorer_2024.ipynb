{
  "nbformat": 4,
  "nbformat_minor": 0,
  "metadata": {
    "colab": {
      "provenance": []
    },
    "kernelspec": {
      "display_name": "Python 3",
      "language": "python",
      "name": "python3"
    }
  },
  "cells": [
    {
      "cell_type": "markdown",
      "metadata": {
        "id": "FaDh1VZeBiYd"
      },
      "source": [
        "# Getting Data\n",
        "\n",
        "First, we want to grab some graphs and subject covariates from a web-accessible url.  We've given this to you on github rather than having you set up aws s3 credentials or asking you to mount data in colab, in the interest of saving time. The original data is hosted at m2g.io\n",
        "\n",
        "Below, you will be getting the following dataset:\n",
        "\n",
        "| Property | Value |\n",
        "|:--------:|:-----:|\n",
        "| Dataset  | SWU4  |\n",
        "| N-Subjects  | 454   |\n",
        "| Scans-per-subjects | 2 |\n",
        "| Atlases | Desikan, CPAC200 |\n",
        "| Desikan Nodes | 70 |\n",
        "| CPAC200 Nodes | 200 |\n",
        "\n",
        "The covariates you have are: `SUBID, SESSION, AGE_AT_SCAN_1, SEX, RESTING_STATE_INSTRUCTION, TIME_OF_DAY, SEASON, SATIETY, LMP`. There are other columns in the `.csv` file (downloaded in the next step) but they are populated with a `#` meaning that the value was not recorded.\n",
        "\n",
        "There are several other atlases available - you can change which one you use\n",
        "Running the cell below will get you the data. **Please note, you only have to run these two cells once!!!**"
      ]
    },
    {
      "cell_type": "markdown",
      "metadata": {
        "id": "ooADCxCFBiYf"
      },
      "source": [
        "## Loading Graphs + Covariates\n",
        "Run the following cells of code to load the graphs into your computer, as well as the covariates."
      ]
    },
    {
      "cell_type": "code",
      "metadata": {
        "id": "3xObMV13BiYf"
      },
      "source": [
        "#!pip install networkx\n",
        "\n",
        "import numpy as np\n",
        "import networkx as nx\n",
        "import scipy as sp\n",
        "import matplotlib.pyplot as plt\n",
        "import os\n",
        "import csv\n",
        "from collections import OrderedDict\n",
        "import glob"
      ],
      "execution_count": 1,
      "outputs": []
    },
    {
      "cell_type": "code",
      "metadata": {
        "id": "6Ay3N2S4BiYk",
        "outputId": "4b1ea3a0-5d00-471f-8f31-6a2ea45a13d0",
        "colab": {
          "base_uri": "https://localhost:8080/"
        }
      },
      "source": [
        "# get code and data\n",
        "!git clone https://github.com/wrgr/graph-explorer.git"
      ],
      "execution_count": 2,
      "outputs": [
        {
          "output_type": "stream",
          "name": "stdout",
          "text": [
            "Cloning into 'graph-explorer'...\n",
            "remote: Enumerating objects: 1147, done.\u001b[K\n",
            "remote: Counting objects: 100% (1147/1147), done.\u001b[K\n",
            "remote: Compressing objects: 100% (1142/1142), done.\u001b[K\n",
            "remote: Total 1147 (delta 11), reused 1128 (delta 3), pack-reused 0\u001b[K\n",
            "Receiving objects: 100% (1147/1147), 15.53 MiB | 14.05 MiB/s, done.\n",
            "Resolving deltas: 100% (11/11), done.\n"
          ]
        }
      ]
    },
    {
      "cell_type": "code",
      "metadata": {
        "id": "EobgajJCCz31"
      },
      "source": [
        "# set paths\n",
        "ps = \"graph-explorer/SWU4-matched.csv\"\n",
        "\n",
        "# Initializing dataset names\n",
        "dataset_names = 'swu-data'\n",
        "basepath = 'graph-explorer'\n",
        "\n",
        "atlas = 'desikan' # only desikan for now - but can extend to other atlases"
      ],
      "execution_count": 3,
      "outputs": []
    },
    {
      "cell_type": "code",
      "metadata": {
        "id": "rdsXDYCfBiYo",
        "outputId": "164ecc11-5cbd-45fb-d8d4-5716570a5be3",
        "colab": {
          "base_uri": "https://localhost:8080/"
        }
      },
      "source": [
        "\n",
        "dir_names = basepath + '/' + dataset_names + '/' + atlas\n",
        "print(dir_names)\n",
        "fs = sorted(glob.glob(dir_names + '/*.csv'))\n",
        "\n",
        "print(\"Total Subjects: %d\" % len(fs))\n",
        "\n"
      ],
      "execution_count": 4,
      "outputs": [
        {
          "output_type": "stream",
          "name": "stdout",
          "text": [
            "graph-explorer/swu-data/desikan\n",
            "Total Subjects: 207\n"
          ]
        }
      ]
    },
    {
      "cell_type": "code",
      "metadata": {
        "id": "hvCuLVOZBiYt"
      },
      "source": [
        "# load graphs - note that this process requires alignment of labels and graphs by file name, so is brittle for general practice.\n",
        "graphs = OrderedDict()\n",
        "i = 0\n",
        "for f in fs:\n",
        "  graphs[i] = nx.read_weighted_edgelist(f)\n",
        "  i = i+1"
      ],
      "execution_count": 5,
      "outputs": []
    },
    {
      "cell_type": "code",
      "metadata": {
        "id": "rEXmghf7BiYv"
      },
      "source": [
        "import pandas as pd\n",
        "import csv\n",
        "\n",
        "# This gets age and sex, respecitvely.\n",
        "attributes = pd.read_csv(ps)\n",
        "\n",
        "depvar = attributes['SEX']"
      ],
      "execution_count": 6,
      "outputs": []
    },
    {
      "cell_type": "markdown",
      "metadata": {
        "id": "cJfiWq3uBiYz"
      },
      "source": [
        "## ASSIGNMENT:  \n",
        "(Code above used to get data in the correct format.  Below is a simple example test string with kind of silly features)"
      ]
    },
    {
      "cell_type": "code",
      "metadata": {
        "id": "aKpw0YV_cgcM",
        "colab": {
          "base_uri": "https://localhost:8080/",
          "height": 452
        },
        "outputId": "a4b0dfa5-b4d2-4d45-aba8-73b15fdbbe87"
      },
      "source": [
        "# plot a graph\n",
        "import matplotlib.pyplot as plt\n",
        "%matplotlib inline\n",
        "i = 10\n",
        "# convert to numpy\n",
        "matrix = nx.to_numpy_array(graphs[i], nodelist=sorted(graphs[i].nodes())) #this is how you go to a matrix\n",
        "\n",
        "plt.imshow(np.log10(matrix+1),cmap='jet')\n",
        "plt.colorbar()\n",
        "plt.title('connectome example')\n",
        "plt.show()"
      ],
      "execution_count": 7,
      "outputs": [
        {
          "output_type": "display_data",
          "data": {
            "text/plain": [
              "<Figure size 640x480 with 2 Axes>"
            ],
            "image/png": "[encoded data removed]"
          },
          "metadata": {}
        }
      ]
    },
    {
      "cell_type": "code",
      "metadata": {
        "id": "-PIhlldGf7Yr"
      },
      "source": [
        "# Criteria 1 (25 points) compute and visualize mean connectomes for all of the data"
      ],
      "execution_count": 8,
      "outputs": []
    },
    {
      "cell_type": "code",
      "metadata": {
        "id": "FNER8vs9gAbj"
      },
      "source": [
        "# Criteria 2 (25 points) compute and visualize class conditional connectomes (e.g., male and female subpopulations)\n"
      ],
      "execution_count": 9,
      "outputs": []
    },
    {
      "cell_type": "code",
      "metadata": {
        "id": "gEXCp1BAgAth"
      },
      "source": [
        "# Criteria 3 (30 points) compute 5 different features related to graphs\n",
        "# Criteria 4 (20 points) interpret meaning of features, with some hypothesis connecting to neuroscience (words and/or code)\n",
        "\n"
      ],
      "execution_count": 10,
      "outputs": []
    },
    {
      "cell_type": "code",
      "metadata": {
        "id": "udMN7YsigVeb"
      },
      "source": [
        "#Develop features (examples)\n",
        "\n",
        "X = []\n",
        "for i in range(len(graphs)):\n",
        "    featvec = []\n",
        "\n",
        "    dc = nx.algorithms.degree_centrality(graphs[i])\n",
        "    dcmean = np.mean(np.asarray(list(dc.values())))\n",
        "    featvec.append(dcmean)\n",
        "\n",
        "    dcall = np.asarray(list(dc.values()))\n",
        "    for ii in dcall:\n",
        "        featvec.append(ii)\n",
        "\n",
        "    matrix = nx.to_numpy_array(graphs[i], nodelist=sorted(graphs[i].nodes())) #this is how you go to a matrix\n",
        "    logmatrix = np.log10(np.sum(matrix,0) + 1)\n",
        "    logmatrix = np.ravel(logmatrix)\n",
        "\n",
        "    for ii in logmatrix:\n",
        "        featvec.append(ii)\n",
        "\n",
        "    xsum = np.asarray(np.sum(matrix))\n",
        "    featvec.append(xsum)\n",
        "    np.shape(featvec)\n",
        "    X.append(featvec)\n"
      ],
      "execution_count": 11,
      "outputs": []
    },
    {
      "cell_type": "code",
      "metadata": {
        "id": "8Cyi5g68BiY2",
        "colab": {
          "base_uri": "https://localhost:8080/"
        },
        "outputId": "efefca01-2e43-4e9b-a19a-457a7d3197a8"
      },
      "source": [
        "# Criteria 5 (30 points) build classifier and obtain classification score at 70\\% or higher\n",
        "# 80% should be very achievable\n",
        "\n",
        "# separate training and test data and run classifier - you don't need to alter this cell\n",
        "\n",
        "X_train = X[0:100]\n",
        "Y_train = depvar[0:100]\n",
        "\n",
        "X_test = X[100:]\n",
        "Y_test = depvar[100:]\n",
        "\n",
        "from sklearn.ensemble import RandomForestClassifier\n",
        "from sklearn import svm\n",
        "\n",
        "accuracy = []\n",
        "for ii in range(10): #performance will change over time\n",
        "    #clf = svm.SVC(gamma='scale')\n",
        "    clf = RandomForestClassifier(n_estimators=100)\n",
        "    clf.fit(X_train, Y_train)\n",
        "    acc = (clf.predict(X_test) == Y_test)\n",
        "    accval = (float(np.sum(acc))/float(len(Y_test)))\n",
        "    accuracy.append(accval)\n",
        "    print('Accuracy:',accval)\n",
        "\n",
        "print('Overall Accuracy:',str(np.mean(accuracy)))"
      ],
      "execution_count": 12,
      "outputs": [
        {
          "output_type": "stream",
          "name": "stdout",
          "text": [
            "Accuracy: 0.7102803738317757\n",
            "Accuracy: 0.6728971962616822\n",
            "Accuracy: 0.6915887850467289\n",
            "Accuracy: 0.7009345794392523\n",
            "Accuracy: 0.6915887850467289\n",
            "Accuracy: 0.6822429906542056\n",
            "Accuracy: 0.6915887850467289\n",
            "Accuracy: 0.7009345794392523\n",
            "Accuracy: 0.6915887850467289\n",
            "Accuracy: 0.6915887850467289\n",
            "Overall Accuracy: 0.6925233644859814\n"
          ]
        }
      ]
    },
    {
      "cell_type": "code",
      "metadata": {
        "id": "g2geKxyHglet"
      },
      "source": [],
      "execution_count": 12,
      "outputs": []
    }
  ]
}